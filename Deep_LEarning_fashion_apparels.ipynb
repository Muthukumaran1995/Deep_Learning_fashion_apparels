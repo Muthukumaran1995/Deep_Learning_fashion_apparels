{
 "cells": [
  {
   "cell_type": "code",
   "execution_count": 414,
   "id": "d5546bc0",
   "metadata": {},
   "outputs": [],
   "source": [
    "import pandas as pd\n",
    "import numpy as np\n",
    "from keras.models import Sequential\n",
    "from keras.layers import Conv2D,Dense,BatchNormalization, Dropout, MaxPooling2D, Flatten\n",
    "from tensorflow.keras import optimizers\n",
    "from tensorflow.keras.optimizers import Adam\n",
    "from sklearn.model_selection import train_test_split\n",
    "%matplotlib inline"
   ]
  },
  {
   "cell_type": "code",
   "execution_count": 415,
   "id": "1ab792ea",
   "metadata": {},
   "outputs": [],
   "source": [
    "train = pd.read_csv(r'E:\\INCEPTEZ\\Training\\Basics_python\\Deep_Learning_fashion_apparels\\train.csv')\n",
    "test = pd.read_csv(r'E:\\INCEPTEZ\\Training\\Basics_python\\Deep_Learning_fashion_apparels\\test.csv')\n",
    "sample = pd.read_csv(r'E:\\INCEPTEZ\\Training\\Basics_python\\Deep_Learning_fashion_apparels\\sample_submission_I5njJSF.csv')"
   ]
  },
  {
   "cell_type": "code",
   "execution_count": 416,
   "id": "6ccb2976",
   "metadata": {},
   "outputs": [
    {
     "data": {
      "text/plain": [
       "'E:\\\\INCEPTEZ\\\\Training\\\\Basics_python\\\\Deep_Learning_fashion_apparels\\\\train'"
      ]
     },
     "execution_count": 416,
     "metadata": {},
     "output_type": "execute_result"
    }
   ],
   "source": [
    "os.getcwd()"
   ]
  },
  {
   "cell_type": "code",
   "execution_count": 417,
   "id": "7de5a555",
   "metadata": {},
   "outputs": [],
   "source": [
    "os.chdir(r'E:\\INCEPTEZ\\Training\\Basics_python\\Deep_Learning_fashion_apparels\\train')"
   ]
  },
  {
   "cell_type": "code",
   "execution_count": 418,
   "id": "cb2a1a87",
   "metadata": {},
   "outputs": [
    {
     "data": {
      "text/plain": [
       "((60000, 2), (10000, 1))"
      ]
     },
     "execution_count": 418,
     "metadata": {},
     "output_type": "execute_result"
    }
   ],
   "source": [
    "train.shape, test.shape"
   ]
  },
  {
   "cell_type": "code",
   "execution_count": 419,
   "id": "3a363dd8",
   "metadata": {},
   "outputs": [
    {
     "data": {
      "text/html": [
       "<div>\n",
       "<style scoped>\n",
       "    .dataframe tbody tr th:only-of-type {\n",
       "        vertical-align: middle;\n",
       "    }\n",
       "\n",
       "    .dataframe tbody tr th {\n",
       "        vertical-align: top;\n",
       "    }\n",
       "\n",
       "    .dataframe thead th {\n",
       "        text-align: right;\n",
       "    }\n",
       "</style>\n",
       "<table border=\"1\" class=\"dataframe\">\n",
       "  <thead>\n",
       "    <tr style=\"text-align: right;\">\n",
       "      <th></th>\n",
       "      <th>id</th>\n",
       "      <th>label</th>\n",
       "    </tr>\n",
       "  </thead>\n",
       "  <tbody>\n",
       "    <tr>\n",
       "      <th>0</th>\n",
       "      <td>1</td>\n",
       "      <td>9</td>\n",
       "    </tr>\n",
       "    <tr>\n",
       "      <th>1</th>\n",
       "      <td>2</td>\n",
       "      <td>0</td>\n",
       "    </tr>\n",
       "    <tr>\n",
       "      <th>2</th>\n",
       "      <td>3</td>\n",
       "      <td>0</td>\n",
       "    </tr>\n",
       "    <tr>\n",
       "      <th>3</th>\n",
       "      <td>4</td>\n",
       "      <td>3</td>\n",
       "    </tr>\n",
       "    <tr>\n",
       "      <th>4</th>\n",
       "      <td>5</td>\n",
       "      <td>0</td>\n",
       "    </tr>\n",
       "  </tbody>\n",
       "</table>\n",
       "</div>"
      ],
      "text/plain": [
       "   id  label\n",
       "0   1      9\n",
       "1   2      0\n",
       "2   3      0\n",
       "3   4      3\n",
       "4   5      0"
      ]
     },
     "execution_count": 419,
     "metadata": {},
     "output_type": "execute_result"
    }
   ],
   "source": [
    "train.head()"
   ]
  },
  {
   "cell_type": "code",
   "execution_count": 420,
   "id": "45d2882b",
   "metadata": {},
   "outputs": [],
   "source": [
    "import skimage\n",
    "from skimage import io\n",
    "from tensorflow.keras.utils import to_categorical \n",
    "import matplotlib.pyplot as plt\n",
    "from tensorflow.keras.preprocessing import image"
   ]
  },
  {
   "cell_type": "code",
   "execution_count": 421,
   "id": "a1489bd2",
   "metadata": {},
   "outputs": [
    {
     "data": {
      "text/plain": [
       "<function skimage.io._io.imread(fname, as_gray=False, plugin=None, **plugin_args)>"
      ]
     },
     "execution_count": 421,
     "metadata": {},
     "output_type": "execute_result"
    }
   ],
   "source": [
    "skimage.io.imread"
   ]
  },
  {
   "cell_type": "code",
   "execution_count": 422,
   "id": "98916208",
   "metadata": {},
   "outputs": [
    {
     "name": "stderr",
     "output_type": "stream",
     "text": [
      "C:\\Users\\Muthukumaran\\anaconda3\\lib\\site-packages\\keras\\utils\\image_utils.py:382: UserWarning: grayscale is deprecated. Please use color_mode = \"grayscale\"\n",
      "  warnings.warn('grayscale is deprecated. Please use '\n"
     ]
    }
   ],
   "source": [
    "all_images = []\n",
    "# for image_path in os.listdir(r'E:\\INCEPTEZ\\Training\\Basics_python\\Deep_Learning_fashion_apparels\\train'):\n",
    "for i in range(1,len(train)-50000):\n",
    "    img = image.load_img(r'E:\\INCEPTEZ\\Training\\Basics_python\\Deep_Learning_fashion_apparels\\train/' + str(i) + '.png',grayscale=True)\n",
    "    img_arr = image.img_to_array(img)\n",
    "    all_images.append(img_arr)\n",
    "x = np.array(all_images)"
   ]
  },
  {
   "cell_type": "code",
   "execution_count": 423,
   "id": "2662fcb4",
   "metadata": {},
   "outputs": [],
   "source": [
    "y = train['label'].values"
   ]
  },
  {
   "cell_type": "code",
   "execution_count": 424,
   "id": "d787cd1b",
   "metadata": {},
   "outputs": [],
   "source": [
    "y = y[0:9999]"
   ]
  },
  {
   "cell_type": "code",
   "execution_count": 425,
   "id": "aeda656a",
   "metadata": {},
   "outputs": [],
   "source": [
    "y = to_categorical(y)"
   ]
  },
  {
   "cell_type": "code",
   "execution_count": 426,
   "id": "e85beb90",
   "metadata": {},
   "outputs": [
    {
     "data": {
      "text/plain": [
       "array([0., 0., 0., 0., 0., 0., 0., 0., 0., 1.], dtype=float32)"
      ]
     },
     "execution_count": 426,
     "metadata": {},
     "output_type": "execute_result"
    }
   ],
   "source": [
    "y[0]"
   ]
  },
  {
   "cell_type": "code",
   "execution_count": 427,
   "id": "b05594cd",
   "metadata": {},
   "outputs": [
    {
     "data": {
      "text/plain": [
       "((9999,), (3000, 28, 28, 1), (6999, 10), (3000, 10))"
      ]
     },
     "execution_count": 427,
     "metadata": {},
     "output_type": "execute_result"
    }
   ],
   "source": [
    "x_train.shape, x_test.shape, y_train.shape, y_test.shape"
   ]
  },
  {
   "cell_type": "code",
   "execution_count": 428,
   "id": "8aba716d",
   "metadata": {},
   "outputs": [],
   "source": [
    "x_train, x_test, y_train, y_test = train_test_split(x, y, test_size=0.3, random_state=21)"
   ]
  },
  {
   "cell_type": "code",
   "execution_count": null,
   "id": "02dac9ab",
   "metadata": {},
   "outputs": [],
   "source": []
  },
  {
   "cell_type": "code",
   "execution_count": 429,
   "id": "80e35639",
   "metadata": {},
   "outputs": [],
   "source": [
    "    models = Sequential()\n",
    "     \n",
    "    # We are learning 64\n",
    "    # filters with a kernal size of 5x5\n",
    "    models.add(Conv2D(64, (5, 5),\n",
    "                      padding=\"same\",\n",
    "                      activation=\"relu\",\n",
    "                      input_shape=(28, 28, 1)))\n",
    "     \n",
    "    # Max pooling will reduce the\n",
    "    # size with a kernal size of 2x2\n",
    "    models.add(MaxPooling2D(pool_size=(2, 2)))\n",
    "    models.add(Conv2D(128, (5, 5), padding=\"same\",\n",
    "                      activation=\"relu\"))\n",
    "     \n",
    "    models.add(MaxPooling2D(pool_size=(2, 2)))\n",
    "    models.add(Conv2D(256, (5, 5), padding=\"same\",\n",
    "                      activation=\"relu\"))\n",
    "     \n",
    "    models.add(MaxPooling2D(pool_size=(2, 2)))\n",
    "     \n",
    "    # Once the convolutional and pooling\n",
    "    # operations are done the layer\n",
    "    # is flattened and fully connected layers\n",
    "    # are added\n",
    "    models.add(Flatten())\n",
    "    models.add(Dense(256, activation=\"relu\"))\n",
    "     \n",
    "    # Finally as there are total 10\n",
    "    # classes to be added a FCC layer of\n",
    "    # 10 is created with a softmax activation\n",
    "    # function\n",
    "    models.add(Dense(10, activation=\"softmax\"))\n"
   ]
  },
  {
   "cell_type": "code",
   "execution_count": 430,
   "id": "7a3b49b4",
   "metadata": {},
   "outputs": [],
   "source": [
    "models.compile(optimizer='adam',\n",
    "              loss='categorical_crossentropy',\n",
    "              metrics=['categorical_accuracy'])\n"
   ]
  },
  {
   "cell_type": "code",
   "execution_count": 431,
   "id": "a11b7920",
   "metadata": {},
   "outputs": [
    {
     "name": "stdout",
     "output_type": "stream",
     "text": [
      "Model: \"sequential_19\"\n",
      "_________________________________________________________________\n",
      " Layer (type)                Output Shape              Param #   \n",
      "=================================================================\n",
      " conv2d_48 (Conv2D)          (None, 28, 28, 64)        1664      \n",
      "                                                                 \n",
      " max_pooling2d_47 (MaxPoolin  (None, 14, 14, 64)       0         \n",
      " g2D)                                                            \n",
      "                                                                 \n",
      " conv2d_49 (Conv2D)          (None, 14, 14, 128)       204928    \n",
      "                                                                 \n",
      " max_pooling2d_48 (MaxPoolin  (None, 7, 7, 128)        0         \n",
      " g2D)                                                            \n",
      "                                                                 \n",
      " conv2d_50 (Conv2D)          (None, 7, 7, 256)         819456    \n",
      "                                                                 \n",
      " max_pooling2d_49 (MaxPoolin  (None, 3, 3, 256)        0         \n",
      " g2D)                                                            \n",
      "                                                                 \n",
      " flatten_18 (Flatten)        (None, 2304)              0         \n",
      "                                                                 \n",
      " dense_36 (Dense)            (None, 256)               590080    \n",
      "                                                                 \n",
      " dense_37 (Dense)            (None, 10)                2570      \n",
      "                                                                 \n",
      "=================================================================\n",
      "Total params: 1,618,698\n",
      "Trainable params: 1,618,698\n",
      "Non-trainable params: 0\n",
      "_________________________________________________________________\n"
     ]
    }
   ],
   "source": [
    "models.summary()"
   ]
  },
  {
   "cell_type": "code",
   "execution_count": null,
   "id": "b17e608c",
   "metadata": {},
   "outputs": [],
   "source": []
  },
  {
   "cell_type": "code",
   "execution_count": 432,
   "id": "e1326213",
   "metadata": {},
   "outputs": [
    {
     "data": {
      "text/plain": [
       "array([[0., 0., 0., ..., 0., 1., 0.],\n",
       "       [0., 1., 0., ..., 0., 0., 0.],\n",
       "       [0., 1., 0., ..., 0., 0., 0.],\n",
       "       ...,\n",
       "       [0., 0., 0., ..., 0., 0., 0.],\n",
       "       [0., 1., 0., ..., 0., 0., 0.],\n",
       "       [0., 0., 0., ..., 0., 0., 1.]], dtype=float32)"
      ]
     },
     "execution_count": 432,
     "metadata": {},
     "output_type": "execute_result"
    }
   ],
   "source": [
    "y_train"
   ]
  },
  {
   "cell_type": "code",
   "execution_count": 433,
   "id": "8b89860a",
   "metadata": {},
   "outputs": [
    {
     "data": {
      "text/plain": [
       "((6999, 28, 28, 1), (3000, 28, 28, 1), (6999, 10), (3000, 10))"
      ]
     },
     "execution_count": 433,
     "metadata": {},
     "output_type": "execute_result"
    }
   ],
   "source": [
    "x_train.shape, x_test.shape, y_train.shape, y_test.shape"
   ]
  },
  {
   "cell_type": "code",
   "execution_count": 434,
   "id": "e446f7b2",
   "metadata": {
    "scrolled": false
   },
   "outputs": [
    {
     "name": "stdout",
     "output_type": "stream",
     "text": [
      "Epoch 1/20\n",
      "100/100 - 14s - loss: 3.8072 - categorical_accuracy: 0.6240 - val_loss: 0.7092 - val_categorical_accuracy: 0.7550 - 14s/epoch - 136ms/step\n",
      "Epoch 2/20\n",
      "100/100 - 13s - loss: 0.7052 - categorical_accuracy: 0.7530 - val_loss: 0.8559 - val_categorical_accuracy: 0.7057 - 13s/epoch - 135ms/step\n",
      "Epoch 3/20\n",
      "100/100 - 13s - loss: 0.6298 - categorical_accuracy: 0.7720 - val_loss: 0.6487 - val_categorical_accuracy: 0.7343 - 13s/epoch - 127ms/step\n",
      "Epoch 4/20\n",
      "100/100 - 12s - loss: 0.5750 - categorical_accuracy: 0.7970 - val_loss: 0.6442 - val_categorical_accuracy: 0.7657 - 12s/epoch - 123ms/step\n",
      "Epoch 5/20\n",
      "100/100 - 13s - loss: 0.5804 - categorical_accuracy: 0.8130 - val_loss: 0.5794 - val_categorical_accuracy: 0.7886 - 13s/epoch - 131ms/step\n",
      "Epoch 6/20\n",
      "100/100 - 13s - loss: 0.5373 - categorical_accuracy: 0.8168 - val_loss: 0.5301 - val_categorical_accuracy: 0.7886 - 13s/epoch - 130ms/step\n",
      "Epoch 7/20\n",
      "100/100 - 13s - loss: 0.4745 - categorical_accuracy: 0.8260 - val_loss: 0.5360 - val_categorical_accuracy: 0.7929 - 13s/epoch - 132ms/step\n",
      "Epoch 8/20\n",
      "100/100 - 13s - loss: 0.4299 - categorical_accuracy: 0.8400 - val_loss: 0.5043 - val_categorical_accuracy: 0.7993 - 13s/epoch - 131ms/step\n",
      "Epoch 9/20\n",
      "100/100 - 13s - loss: 0.4741 - categorical_accuracy: 0.8220 - val_loss: 0.5697 - val_categorical_accuracy: 0.8093 - 13s/epoch - 132ms/step\n",
      "Epoch 10/20\n",
      "100/100 - 13s - loss: 0.4479 - categorical_accuracy: 0.8420 - val_loss: 0.5163 - val_categorical_accuracy: 0.8114 - 13s/epoch - 131ms/step\n",
      "Epoch 11/20\n",
      "100/100 - 13s - loss: 0.4869 - categorical_accuracy: 0.8260 - val_loss: 0.4934 - val_categorical_accuracy: 0.8279 - 13s/epoch - 131ms/step\n",
      "Epoch 12/20\n",
      "100/100 - 13s - loss: 0.4405 - categorical_accuracy: 0.8408 - val_loss: 0.4612 - val_categorical_accuracy: 0.8321 - 13s/epoch - 131ms/step\n",
      "Epoch 13/20\n",
      "100/100 - 13s - loss: 0.3893 - categorical_accuracy: 0.8590 - val_loss: 0.4755 - val_categorical_accuracy: 0.8364 - 13s/epoch - 131ms/step\n",
      "Epoch 14/20\n",
      "100/100 - 13s - loss: 0.3577 - categorical_accuracy: 0.8590 - val_loss: 0.4706 - val_categorical_accuracy: 0.8343 - 13s/epoch - 132ms/step\n",
      "Epoch 15/20\n",
      "100/100 - 13s - loss: 0.3621 - categorical_accuracy: 0.8640 - val_loss: 0.5018 - val_categorical_accuracy: 0.8293 - 13s/epoch - 131ms/step\n",
      "Epoch 16/20\n",
      "100/100 - 13s - loss: 0.3823 - categorical_accuracy: 0.8650 - val_loss: 0.5392 - val_categorical_accuracy: 0.8243 - 13s/epoch - 132ms/step\n",
      "Epoch 17/20\n",
      "100/100 - 13s - loss: 0.4339 - categorical_accuracy: 0.8448 - val_loss: 0.4470 - val_categorical_accuracy: 0.8493 - 13s/epoch - 131ms/step\n",
      "Epoch 18/20\n",
      "100/100 - 13s - loss: 0.3346 - categorical_accuracy: 0.8780 - val_loss: 0.4505 - val_categorical_accuracy: 0.8464 - 13s/epoch - 130ms/step\n",
      "Epoch 19/20\n",
      "100/100 - 13s - loss: 0.3761 - categorical_accuracy: 0.8630 - val_loss: 0.4935 - val_categorical_accuracy: 0.8364 - 13s/epoch - 131ms/step\n",
      "Epoch 20/20\n",
      "100/100 - 13s - loss: 0.3179 - categorical_accuracy: 0.8830 - val_loss: 0.5652 - val_categorical_accuracy: 0.8050 - 13s/epoch - 131ms/step\n"
     ]
    }
   ],
   "source": [
    "history = models.fit(x_train, y_train, validation_split = 0.2, epochs=20, steps_per_epoch=100,batch_size = 10, verbose=2)"
   ]
  },
  {
   "cell_type": "code",
   "execution_count": 440,
   "id": "08fa0aea",
   "metadata": {},
   "outputs": [
    {
     "data": {
      "text/plain": [
       "<matplotlib.legend.Legend at 0x210cdbdf4f0>"
      ]
     },
     "execution_count": 440,
     "metadata": {},
     "output_type": "execute_result"
    },
    {
     "data": {
      "image/png": "[encoded data removed]",
      "text/plain": [
       "<Figure size 432x288 with 1 Axes>"
      ]
     },
     "metadata": {
      "needs_background": "light"
     },
     "output_type": "display_data"
    }
   ],
   "source": [
    "\n",
    "plt.plot(history.history['categorical_accuracy'])\n",
    "plt.plot(history.history['val_categorical_accuracy'])\n",
    "plt.legend(['categorical_accuracy','val_categorical_accuracy'])"
   ]
  },
  {
   "cell_type": "code",
   "execution_count": 441,
   "id": "5f5235b3",
   "metadata": {},
   "outputs": [
    {
     "name": "stdout",
     "output_type": "stream",
     "text": [
      "219/219 [==============================] - 1s 3ms/step - loss: 59.5986 - categorical_accuracy: 0.6647\n"
     ]
    },
    {
     "data": {
      "text/plain": [
       "[59.5986328125, 0.6646663546562195]"
      ]
     },
     "execution_count": 441,
     "metadata": {},
     "output_type": "execute_result"
    }
   ],
   "source": [
    "model.evaluate(x_train, y_train)"
   ]
  },
  {
   "cell_type": "code",
   "execution_count": 442,
   "id": "f6dafd5c",
   "metadata": {},
   "outputs": [
    {
     "name": "stdout",
     "output_type": "stream",
     "text": [
      "94/94 [==============================] - 0s 3ms/step - loss: 58.9769 - categorical_accuracy: 0.6813\n"
     ]
    },
    {
     "data": {
      "text/plain": [
       "[58.97692108154297, 0.6813333630561829]"
      ]
     },
     "execution_count": 442,
     "metadata": {},
     "output_type": "execute_result"
    }
   ],
   "source": [
    "model.evaluate(x_test, y_test)"
   ]
  },
  {
   "cell_type": "code",
   "execution_count": 447,
   "id": "736b195a",
   "metadata": {},
   "outputs": [],
   "source": [
    "test_images = []\n",
    "for i in range(60001,60001+len(test)):\n",
    "    img = image.load_img(r'E:\\INCEPTEZ\\Training\\Basics_python\\Deep_Learning_fashion_apparels\\test/' + str(i) + '.png',grayscale=True,target_size=(28,28,1))\n",
    "    img_arr = image.img_to_array(img)\n",
    "    test_images.append(img_arr)\n",
    "test = np.array(test_images)"
   ]
  },
  {
   "cell_type": "code",
   "execution_count": 462,
   "id": "fa2ddfcf",
   "metadata": {},
   "outputs": [
    {
     "name": "stdout",
     "output_type": "stream",
     "text": [
      "94/94 [==============================] - 0s 3ms/step\n"
     ]
    }
   ],
   "source": [
    "y_pred = model.predict(x_test)"
   ]
  },
  {
   "cell_type": "code",
   "execution_count": 471,
   "id": "3d3b492e",
   "metadata": {},
   "outputs": [
    {
     "data": {
      "text/plain": [
       "[0, 3, 4, 9, 0]"
      ]
     },
     "execution_count": 471,
     "metadata": {},
     "output_type": "execute_result"
    }
   ],
   "source": [
    "y_classes = [np.argmax(i) for i  in y_pred]\n",
    "y_classes[0:5]"
   ]
  },
  {
   "cell_type": "code",
   "execution_count": null,
   "id": "e2d9d913",
   "metadata": {},
   "outputs": [],
   "source": []
  }
 ],
 "metadata": {
  "kernelspec": {
   "display_name": "Python 3 (ipykernel)",
   "language": "python",
   "name": "python3"
  },
  "language_info": {
   "codemirror_mode": {
    "name": "ipython",
    "version": 3
   },
   "file_extension": ".py",
   "mimetype": "text/x-python",
   "name": "python",
   "nbconvert_exporter": "python",
   "pygments_lexer": "ipython3",
   "version": "3.9.7"
  }
 },
 "nbformat": 4,
 "nbformat_minor": 5
}
